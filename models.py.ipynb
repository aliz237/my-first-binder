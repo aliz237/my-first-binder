{
 "cells": [
  {
   "cell_type": "code",
   "execution_count": 6,
   "id": "4c45805a",
   "metadata": {},
   "outputs": [],
   "source": [
    "%matplotlib inline\n",
    "import matplotlib\n",
    "import matplotlib.pyplot as plt\n",
    "import pandas as pd\n",
    "from sklearn.linear_model import LinearRegression, LogisticRegression\n",
    "from sklearn.cluster import KMeans\n",
    "from sklearn.neural_network import MLPClassifier\n",
    "from sklearn.metrics import classification_report, confusion_matrix\n",
    "from sklearn.model_selection import train_test_split"
   ]
  },
  {
   "cell_type": "markdown",
   "id": "ccc856b1",
   "metadata": {},
   "source": [
    "### Iris Dataset\n",
    "Load and partition the dataset into test and train subset with a ration of 0.3"
   ]
  },
  {
   "cell_type": "code",
   "execution_count": 20,
   "id": "0579f6fa",
   "metadata": {},
   "outputs": [
    {
     "name": "stdout",
     "output_type": "stream",
     "text": [
      "   sepalWidth  petalWidth  Y\n",
      "0         3.5         0.2  0\n",
      "1         3.0         0.2  0\n",
      "2         3.6         0.2  0\n",
      "3         3.9         0.4  0\n",
      "4         3.4         0.3  0\n",
      "       sepalWidth  petalWidth           Y\n",
      "count  100.000000  100.000000  100.000000\n",
      "mean     3.094000    0.785000    0.500000\n",
      "std      0.476057    0.566288    0.502519\n",
      "min      2.000000    0.100000    0.000000\n",
      "25%      2.800000    0.200000    0.000000\n",
      "50%      3.050000    0.800000    0.500000\n",
      "75%      3.400000    1.300000    1.000000\n",
      "max      4.400000    1.800000    1.000000\n",
      "(100, 3)\n"
     ]
    }
   ],
   "source": [
    "df = pd.read_csv('~/Documents/Week_06_HW6_Iris_Dataset.csv')\n",
    "\n",
    "# keep the relevant columns\n",
    "df = df[['sepalWidth',  'petalWidth', 'irisSpecies']]\n",
    "\n",
    "# translate qualitative label to a binary quantitative label\n",
    "df['Y'] = 1\n",
    "df.loc[df['irisSpecies'] == 'Iris-setosa', 'Y'] = 0\n",
    "df = df.drop(columns=['irisSpecies'])\n",
    "\n",
    "# make sure looks clean\n",
    "print(df.head())\n",
    "print(df.describe())\n",
    "print(df.shape)\n",
    "\n",
    "# split into test and train \n",
    "x_train, x_test, y_train, y_test = train_test_split(\n",
    "    df[['sepalWidth',  'petalWidth']], df['Y'], test_size=0.3, random_state=1\n",
    ")"
   ]
  },
  {
   "cell_type": "markdown",
   "id": "dd2a66da",
   "metadata": {},
   "source": [
    "### Linear Regression\n",
    "\n",
    "This is a classification problom, and linear regression is not a \n",
    "suitable approach for classification problems. For example the response variable has to be transformed to numerical variable first. This imposes an ordering on the labels, which is not possible to determine in general. \n",
    "However, we have only two classes of flowers here, Iris-setosa and Iris-versicolor. It can be shown that the regression model does not depend on the ordering of numerical labels in a binary classification.\n",
    "Another problem is that the model response is a continuous variable and we'll need to interpret the outcomes as probablities. However, it's possible that responses are negative, or bigger than 1. "
   ]
  },
  {
   "cell_type": "code",
   "execution_count": 24,
   "id": "acfb2d0b",
   "metadata": {},
   "outputs": [
    {
     "name": "stdout",
     "output_type": "stream",
     "text": [
      "R^2: 0.9552979540749827\n",
      "Coefficients and intercept: [-0.19808095  0.74590766] 0.5224362573357109\n",
      "[-0.01702393  0.03775874 -0.06128173  0.05292522  1.06686298]\n"
     ]
    }
   ],
   "source": [
    "model = LinearRegression()\n",
    "model.fit(x_train, y_train)\n",
    "r2 = model.score(x_test, y_test)\n",
    "print('R^2:', r2)\n",
    "print('Coefficients and intercept:', model.coef_, model.intercept_)\n",
    "# these should be interpreted as probabilities, \n",
    "# but notice it's possible to have negative values, or values greater than 1\n",
    "print(model.predict(x_test)[:5])"
   ]
  },
  {
   "cell_type": "markdown",
   "id": "9e4eb900",
   "metadata": {},
   "source": [
    "### Logistic Regression\n",
    "\n",
    "Logistic regression addresses the problems outlined under using linear regression for a classification problem."
   ]
  },
  {
   "cell_type": "code",
   "execution_count": 27,
   "id": "8a6f8e65",
   "metadata": {},
   "outputs": [
    {
     "name": "stdout",
     "output_type": "stream",
     "text": [
      "[0 1]\n",
      "1.0\n",
      "              precision    recall  f1-score   support\n",
      "\n",
      "           0       1.00      1.00      1.00        14\n",
      "           1       1.00      1.00      1.00        16\n",
      "\n",
      "    accuracy                           1.00        30\n",
      "   macro avg       1.00      1.00      1.00        30\n",
      "weighted avg       1.00      1.00      1.00        30\n",
      "\n"
     ]
    }
   ],
   "source": [
    "# Logistic Regression\n",
    "model = LogisticRegression()\n",
    "model.fit(x_test, y_test)\n",
    "print(model.classes_)\n",
    "print(model.score(x_test, y_test))\n",
    "print(classification_report(y_test, model.predict(x_test)))"
   ]
  },
  {
   "cell_type": "markdown",
   "id": "397575cd",
   "metadata": {},
   "source": [
    "### Kmeans\n",
    "Here we use two clusters, and fit the model on the train dataset. Then predict the test data set and plot them. Cluster centers are shown with a cross sign."
   ]
  },
  {
   "cell_type": "code",
   "execution_count": 32,
   "id": "6942b133",
   "metadata": {},
   "outputs": [
    {
     "name": "stdout",
     "output_type": "stream",
     "text": [
      "cluster centers: [[2.74285714 1.30857143]\n",
      " [3.44857143 0.23714286]]\n"
     ]
    },
    {
     "data": {
      "text/plain": [
       "[<matplotlib.lines.Line2D at 0x28b067f70>]"
      ]
     },
     "execution_count": 32,
     "metadata": {},
     "output_type": "execute_result"
    },
    {
     "data": {
      "image/png": "[encoded data removed]",
      "text/plain": [
       "<Figure size 640x480 with 1 Axes>"
      ]
     },
     "metadata": {},
     "output_type": "display_data"
    }
   ],
   "source": [
    "model = KMeans(n_clusters=2).fit(x_train)\n",
    "print('cluster centers:', model.cluster_centers_)\n",
    "pred = model.predict(x_test)\n",
    "\n",
    "cluster_df = pd.DataFrame(pred, index=x_test.index, columns=['cluster']).join(x_test, how='inner')\n",
    "s = cluster_df[cluster_df['cluster'] == 0]\n",
    "v = cluster_df[cluster_df['cluster'] == 1]\n",
    "plt.plot(s[['sepalWidth']], s[['petalWidth']], 'or', alpha=0.4)\n",
    "plt.plot(v[['sepalWidth']], v[['petalWidth']], 'ob', alpha=0.4)\n",
    "plt.plot(model.cluster_centers_[0][0], model.cluster_centers_[0][1], 'xr')\n",
    "plt.plot(model.cluster_centers_[1][0], model.cluster_centers_[1][1], 'xb')"
   ]
  },
  {
   "cell_type": "markdown",
   "id": "2c4fdf16",
   "metadata": {},
   "source": [
    "### ANN\n",
    "\n",
    "Here we fit a two layer neural network with an input layer, a second dense layer, and an output layer. It turns out that even with only 2 neurons, this network reaches a 100% accuracy if 'lbfgs' optimizer is used. This converges a lot faster than other optimizers on small datasets."
   ]
  },
  {
   "cell_type": "code",
   "execution_count": 58,
   "id": "ec6d1000",
   "metadata": {},
   "outputs": [
    {
     "name": "stdout",
     "output_type": "stream",
     "text": [
      "              precision    recall  f1-score   support\n",
      "\n",
      "           0       1.00      1.00      1.00        14\n",
      "           1       1.00      1.00      1.00        16\n",
      "\n",
      "    accuracy                           1.00        30\n",
      "   macro avg       1.00      1.00      1.00        30\n",
      "weighted avg       1.00      1.00      1.00        30\n",
      "\n",
      "              precision    recall  f1-score   support\n",
      "\n",
      "           0       0.93      1.00      0.97        14\n",
      "           1       1.00      0.94      0.97        16\n",
      "\n",
      "    accuracy                           0.97        30\n",
      "   macro avg       0.97      0.97      0.97        30\n",
      "weighted avg       0.97      0.97      0.97        30\n",
      "\n"
     ]
    },
    {
     "name": "stderr",
     "output_type": "stream",
     "text": [
      "/opt/homebrew/lib/python3.10/site-packages/sklearn/neural_network/_multilayer_perceptron.py:702: ConvergenceWarning: Stochastic Optimizer: Maximum iterations (50) reached and the optimization hasn't converged yet.\n",
      "  warnings.warn(\n"
     ]
    }
   ],
   "source": [
    "model1 = MLPClassifier(\n",
    "    hidden_layer_sizes=(2,), \n",
    "    activation='relu',\n",
    "    random_state=1, \n",
    "    solver='lbfgs',\n",
    "    max_iter=50\n",
    ").fit(x_train, y_train)\n",
    "\n",
    "print(classification_report(y_test, model1.predict(x_test)))\n",
    "\n",
    "# needs a higher max_iter or larger number of hidden_layer_sizes to reach 100% accuracy\n",
    "model2 = MLPClassifier(\n",
    "    hidden_layer_sizes=(50,), \n",
    "    activation='relu',\n",
    "    random_state=1, \n",
    "    solver='adam',\n",
    "    max_iter=50\n",
    ").fit(x_train, y_train)\n",
    "print(classification_report(y_test, model2.predict(x_test)))\n"
   ]
  }
 ],
 "metadata": {
  "kernelspec": {
   "display_name": "Python 3 (ipykernel)",
   "language": "python",
   "name": "python3"
  },
  "language_info": {
   "codemirror_mode": {
    "name": "ipython",
    "version": 3
   },
   "file_extension": ".py",
   "mimetype": "text/x-python",
   "name": "python",
   "nbconvert_exporter": "python",
   "pygments_lexer": "ipython3",
   "version": "3.10.8"
  }
 },
 "nbformat": 4,
 "nbformat_minor": 5
}
